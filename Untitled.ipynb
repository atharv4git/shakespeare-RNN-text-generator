{
 "cells": [
  {
   "cell_type": "code",
   "execution_count": 6,
   "id": "9e549b1c-d70e-418c-ace2-1aea24106b58",
   "metadata": {},
   "outputs": [
    {
     "name": "stdout",
     "output_type": "stream",
     "text": [
      "ROMEO:\n",
      "Stay, or one were ne'er been;\n",
      "Not every drop not time deliver'd velove,\n",
      "And only makes servuced me and my life too much.\n",
      "\n",
      "RICHARD:\n",
      "I'll tell for that which credit his fat are coalse.\n",
      "\n",
      "HASTINGS:\n",
      "How, urgue it?\n",
      "\n",
      "CATESBY:\n",
      "My lord was I go aparcet: one that colour's horse,\n",
      "Which may mad bless your days of it. Why, heavens!' between the grainsam,\n",
      "So hot a little finger be armed in\n",
      "dispersed wife is sad, I'll bear you on:\n",
      "Lest I am your free depends, it escases\n",
      "If was her true beauty in his stomach,\n",
      "All mad men's beauties; quit what would forget\n",
      "you here to seek your knowledge for the death.\n",
      "\n",
      "Second Murderar:\n",
      "Let no deserited that time thou comest in writing,\n",
      "I drink the name of needful, tender, so bad,\n",
      "That look too labe the crown more slily than it,\n",
      "Fiery Paris,' to be their bodies of their poison,\n",
      "It will take hold it too, to fill him by streads.\n",
      "My sighs fet upon 'em. Why 'tis Cloud\n",
      "And gazed upon the hatchess.\n",
      "\n",
      "DUKE VINCENTIO:\n",
      "Word in Hastings, and the rest shall speak a word.\n",
      "\n",
      "ROMEO:\n",
      "\n"
     ]
    }
   ],
   "source": [
    "import tensorflow as tf\n",
    "import numpy as np\n",
    "import os\n",
    "import time\n",
    "\n",
    "\n",
    "# Load the saved model\n",
    "one_step_reloaded = tf.saved_model.load('one_step')\n",
    "\n",
    "states = None\n",
    "next_char = tf.constant(['ROMEO:'])\n",
    "result = [next_char]\n",
    "\n",
    "for n in range(1000):\n",
    "  next_char, states = one_step_reloaded.generate_one_step(next_char, states=states)\n",
    "  result.append(next_char)\n",
    "\n",
    "print(tf.strings.join(result)[0].numpy().decode(\"utf-8\"))"
   ]
  },
  {
   "cell_type": "code",
   "execution_count": null,
   "id": "31a0b67f-23cf-4d8b-bb6a-e1980717ce6e",
   "metadata": {},
   "outputs": [],
   "source": []
  }
 ],
 "metadata": {
  "kernelspec": {
   "display_name": "Python 3 (ipykernel)",
   "language": "python",
   "name": "python3"
  },
  "language_info": {
   "codemirror_mode": {
    "name": "ipython",
    "version": 3
   },
   "file_extension": ".py",
   "mimetype": "text/x-python",
   "name": "python",
   "nbconvert_exporter": "python",
   "pygments_lexer": "ipython3",
   "version": "3.9.16"
  }
 },
 "nbformat": 4,
 "nbformat_minor": 5
}
